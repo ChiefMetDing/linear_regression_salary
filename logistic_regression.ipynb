{
 "cells": [
  {
   "cell_type": "markdown",
   "metadata": {},
   "source": [
    " # Logistic Regression\n",
    "\n",
    " Logistic Regression is a statistical method for predicting binary outcomes from data.\n",
    "\n",
    " Examples of this are \"yes\" vs \"no\" or \"high credit risk\" vs \"low credit risk\".\n",
    "\n",
    " These are categories that translate to probability of being a 0 or a 1"
   ]
  },
  {
   "cell_type": "markdown",
   "metadata": {},
   "source": [
    " We can calculate logistic regression by adding an activation function as the final step to our linear model.\n",
    "\n",
    " This converts the linear regression output to a probability."
   ]
  },
  {
   "cell_type": "code",
   "execution_count": 1,
   "metadata": {},
   "outputs": [],
   "source": [
    "import matplotlib.pyplot as plt\n",
    "import pandas as pd"
   ]
  },
  {
   "cell_type": "markdown",
   "metadata": {},
   "source": [
    " # Generate some data"
   ]
  },
  {
   "cell_type": "code",
   "execution_count": 2,
   "metadata": {},
   "outputs": [
    {
     "output_type": "stream",
     "name": "stdout",
     "text": [
      "Labels: [0 1 0 1 1 0 1 1 0 0]\nData: [[-2.98837186  8.82862715]\n [ 5.72293008  3.02697174]\n [-3.05358035  9.12520872]\n [ 5.461939    3.86996267]\n [ 4.86733877  3.28031244]\n [-2.14780202 10.55232269]\n [ 4.91656964  2.80035293]\n [ 3.08921541  2.04173266]\n [-2.90130578  7.55077118]\n [-3.34841515  8.70507375]]\n"
     ]
    }
   ],
   "source": [
    "from sklearn.datasets import make_blobs\n",
    "\n",
    "X, y = make_blobs(centers=2, random_state=42)\n",
    "\n",
    "print(f\"Labels: {y[:10]}\")\n",
    "print(f\"Data: {X[:10]}\")"
   ]
  },
  {
   "cell_type": "code",
   "execution_count": 14,
   "metadata": {},
   "outputs": [
    {
     "output_type": "execute_result",
     "data": {
      "text/plain": [
       "<matplotlib.collections.PathCollection at 0x13c512e9c70>"
      ]
     },
     "metadata": {},
     "execution_count": 14
    },
    {
     "output_type": "display_data",
     "data": {
      "text/plain": "<Figure size 432x288 with 1 Axes>",
      "image/svg+xml": "<?xml version=\"1.0\" encoding=\"utf-8\" standalone=\"no\"?>\r\n<!DOCTYPE svg PUBLIC \"-//W3C//DTD SVG 1.1//EN\"\r\n  \"http://www.w3.org/Graphics/SVG/1.1/DTD/svg11.dtd\">\r\n<!-- Created with matplotlib (https://matplotlib.org/) -->\r\n<svg height=\"248.518125pt\" version=\"1.1\" viewBox=\"0 0 368.925 248.518125\" width=\"368.925pt\" xmlns=\"http://www.w3.org/2000/svg\" xmlns:xlink=\"http://www.w3.org/1999/xlink\">\r\n <metadata>\r\n  <rdf:RDF xmlns:cc=\"http://creativecommons.org/ns#\" xmlns:dc=\"http://purl.org/dc/elements/1.1/\" xmlns:rdf=\"http://www.w3.org/1999/02/22-rdf-syntax-ns#\">\r\n   <cc:Work>\r\n    <dc:type rdf:resource=\"http://purl.org/dc/dcmitype/StillImage\"/>\r\n    <dc:date>2021-06-13T16:31:24.881820</dc:date>\r\n    <dc:format>image/svg+xml</dc:format>\r\n    <dc:creator>\r\n     <cc:Agent>\r\n      <dc:title>Matplotlib v3.3.4, https://matplotlib.org/</dc:title>\r\n     </cc:Agent>\r\n    </dc:creator>\r\n   </cc:Work>\r\n  </rdf:RDF>\r\n </metadata>\r\n <defs>\r\n  <style type=\"text/css\">*{stroke-linecap:butt;stroke-linejoin:round;}</style>\r\n </defs>\r\n <g id=\"figure_1\">\r\n  <g id=\"patch_1\">\r\n   <path d=\"M -0 248.518125 \r\nL 368.925 248.518125 \r\nL 368.925 0 \r\nL -0 0 \r\nz\r\n\" style=\"fill:none;\"/>\r\n  </g>\r\n  <g id=\"axes_1\">\r\n   <g id=\"patch_2\">\r\n    <path d=\"M 26.925 224.64 \r\nL 361.725 224.64 \r\nL 361.725 7.2 \r\nL 26.925 7.2 \r\nz\r\n\" style=\"fill:#ffffff;\"/>\r\n   </g>\r\n   <g id=\"PathCollection_1\">\r\n    <defs>\r\n     <path d=\"M 0 3 \r\nC 0.795609 3 1.55874 2.683901 2.12132 2.12132 \r\nC 2.683901 1.55874 3 0.795609 3 -0 \r\nC 3 -0.795609 2.683901 -1.55874 2.12132 -2.12132 \r\nC 1.55874 -2.683901 0.795609 -3 0 -3 \r\nC -0.795609 -3 -1.55874 -2.683901 -2.12132 -2.12132 \r\nC -2.683901 -1.55874 -3 -0.795609 -3 0 \r\nC -3 0.795609 -2.683901 1.55874 -2.12132 2.12132 \r\nC -1.55874 2.683901 -0.795609 3 0 3 \r\nz\r\n\" id=\"C0_0_432054d1e0\"/>\r\n    </defs>\r\n    <g clip-path=\"url(#p662d197821)\">\r\n     <use style=\"fill:#440154;stroke:#440154;\" x=\"98.042926\" xlink:href=\"#C0_0_432054d1e0\" y=\"55.788021\"/>\r\n    </g>\r\n    <g clip-path=\"url(#p662d197821)\">\r\n     <use style=\"fill:#fde725;stroke:#fde725;\" x=\"325.533431\" xlink:href=\"#C0_0_432054d1e0\" y=\"165.972725\"/>\r\n    </g>\r\n    <g clip-path=\"url(#p662d197821)\">\r\n     <use style=\"fill:#440154;stroke:#440154;\" x=\"96.340045\" xlink:href=\"#C0_0_432054d1e0\" y=\"50.155361\"/>\r\n    </g>\r\n    <g clip-path=\"url(#p662d197821)\">\r\n     <use style=\"fill:#fde725;stroke:#fde725;\" x=\"318.717803\" xlink:href=\"#C0_0_432054d1e0\" y=\"149.96269\"/>\r\n    </g>\r\n    <g clip-path=\"url(#p662d197821)\">\r\n     <use style=\"fill:#fde725;stroke:#fde725;\" x=\"303.190169\" xlink:href=\"#C0_0_432054d1e0\" y=\"161.161293\"/>\r\n    </g>\r\n    <g clip-path=\"url(#p662d197821)\">\r\n     <use style=\"fill:#440154;stroke:#440154;\" x=\"119.993911\" xlink:href=\"#C0_0_432054d1e0\" y=\"23.051695\"/>\r\n    </g>\r\n    <g clip-path=\"url(#p662d197821)\">\r\n     <use style=\"fill:#fde725;stroke:#fde725;\" x=\"304.475804\" xlink:href=\"#C0_0_432054d1e0\" y=\"170.276656\"/>\r\n    </g>\r\n    <g clip-path=\"url(#p662d197821)\">\r\n     <use style=\"fill:#fde725;stroke:#fde725;\" x=\"256.755528\" xlink:href=\"#C0_0_432054d1e0\" y=\"184.684329\"/>\r\n    </g>\r\n    <g clip-path=\"url(#p662d197821)\">\r\n     <use style=\"fill:#440154;stroke:#440154;\" x=\"100.316605\" xlink:href=\"#C0_0_432054d1e0\" y=\"80.056988\"/>\r\n    </g>\r\n    <g clip-path=\"url(#p662d197821)\">\r\n     <use style=\"fill:#440154;stroke:#440154;\" x=\"88.640608\" xlink:href=\"#C0_0_432054d1e0\" y=\"58.13454\"/>\r\n    </g>\r\n    <g clip-path=\"url(#p662d197821)\">\r\n     <use style=\"fill:#440154;stroke:#440154;\" x=\"112.319737\" xlink:href=\"#C0_0_432054d1e0\" y=\"79.320732\"/>\r\n    </g>\r\n    <g clip-path=\"url(#p662d197821)\">\r\n     <use style=\"fill:#fde725;stroke:#fde725;\" x=\"264.94795\" xlink:href=\"#C0_0_432054d1e0\" y=\"211.064508\"/>\r\n    </g>\r\n    <g clip-path=\"url(#p662d197821)\">\r\n     <use style=\"fill:#440154;stroke:#440154;\" x=\"98.296232\" xlink:href=\"#C0_0_432054d1e0\" y=\"41.957728\"/>\r\n    </g>\r\n    <g clip-path=\"url(#p662d197821)\">\r\n     <use style=\"fill:#440154;stroke:#440154;\" x=\"75.871484\" xlink:href=\"#C0_0_432054d1e0\" y=\"48.523219\"/>\r\n    </g>\r\n    <g clip-path=\"url(#p662d197821)\">\r\n     <use style=\"fill:#fde725;stroke:#fde725;\" x=\"279.491743\" xlink:href=\"#C0_0_432054d1e0\" y=\"181.575524\"/>\r\n    </g>\r\n    <g clip-path=\"url(#p662d197821)\">\r\n     <use style=\"fill:#fde725;stroke:#fde725;\" x=\"276.79599\" xlink:href=\"#C0_0_432054d1e0\" y=\"192.103046\"/>\r\n    </g>\r\n    <g clip-path=\"url(#p662d197821)\">\r\n     <use style=\"fill:#fde725;stroke:#fde725;\" x=\"298.823064\" xlink:href=\"#C0_0_432054d1e0\" y=\"139.204721\"/>\r\n    </g>\r\n    <g clip-path=\"url(#p662d197821)\">\r\n     <use style=\"fill:#fde725;stroke:#fde725;\" x=\"269.284462\" xlink:href=\"#C0_0_432054d1e0\" y=\"176.823385\"/>\r\n    </g>\r\n    <g clip-path=\"url(#p662d197821)\">\r\n     <use style=\"fill:#fde725;stroke:#fde725;\" x=\"298.770274\" xlink:href=\"#C0_0_432054d1e0\" y=\"207.693699\"/>\r\n    </g>\r\n    <g clip-path=\"url(#p662d197821)\">\r\n     <use style=\"fill:#440154;stroke:#440154;\" x=\"112.952556\" xlink:href=\"#C0_0_432054d1e0\" y=\"90.00979\"/>\r\n    </g>\r\n    <g clip-path=\"url(#p662d197821)\">\r\n     <use style=\"fill:#fde725;stroke:#fde725;\" x=\"302.841119\" xlink:href=\"#C0_0_432054d1e0\" y=\"209.645472\"/>\r\n    </g>\r\n    <g clip-path=\"url(#p662d197821)\">\r\n     <use style=\"fill:#fde725;stroke:#fde725;\" x=\"292.226794\" xlink:href=\"#C0_0_432054d1e0\" y=\"180.259503\"/>\r\n    </g>\r\n    <g clip-path=\"url(#p662d197821)\">\r\n     <use style=\"fill:#fde725;stroke:#fde725;\" x=\"317.907519\" xlink:href=\"#C0_0_432054d1e0\" y=\"203.257507\"/>\r\n    </g>\r\n    <g clip-path=\"url(#p662d197821)\">\r\n     <use style=\"fill:#fde725;stroke:#fde725;\" x=\"322.408186\" xlink:href=\"#C0_0_432054d1e0\" y=\"178.146961\"/>\r\n    </g>\r\n    <g clip-path=\"url(#p662d197821)\">\r\n     <use style=\"fill:#fde725;stroke:#fde725;\" x=\"304.036873\" xlink:href=\"#C0_0_432054d1e0\" y=\"171.138138\"/>\r\n    </g>\r\n    <g clip-path=\"url(#p662d197821)\">\r\n     <use style=\"fill:#440154;stroke:#440154;\" x=\"151.796488\" xlink:href=\"#C0_0_432054d1e0\" y=\"37.686921\"/>\r\n    </g>\r\n    <g clip-path=\"url(#p662d197821)\">\r\n     <use style=\"fill:#fde725;stroke:#fde725;\" x=\"295.236722\" xlink:href=\"#C0_0_432054d1e0\" y=\"179.507334\"/>\r\n    </g>\r\n    <g clip-path=\"url(#p662d197821)\">\r\n     <use style=\"fill:#440154;stroke:#440154;\" x=\"131.77491\" xlink:href=\"#C0_0_432054d1e0\" y=\"26.504364\"/>\r\n    </g>\r\n    <g clip-path=\"url(#p662d197821)\">\r\n     <use style=\"fill:#fde725;stroke:#fde725;\" x=\"310.880383\" xlink:href=\"#C0_0_432054d1e0\" y=\"180.346157\"/>\r\n    </g>\r\n    <g clip-path=\"url(#p662d197821)\">\r\n     <use style=\"fill:#fde725;stroke:#fde725;\" x=\"290.33883\" xlink:href=\"#C0_0_432054d1e0\" y=\"134.325177\"/>\r\n    </g>\r\n    <g clip-path=\"url(#p662d197821)\">\r\n     <use style=\"fill:#440154;stroke:#440154;\" x=\"104.441501\" xlink:href=\"#C0_0_432054d1e0\" y=\"56.708712\"/>\r\n    </g>\r\n    <g clip-path=\"url(#p662d197821)\">\r\n     <use style=\"fill:#440154;stroke:#440154;\" x=\"71.945549\" xlink:href=\"#C0_0_432054d1e0\" y=\"65.933236\"/>\r\n    </g>\r\n    <g clip-path=\"url(#p662d197821)\">\r\n     <use style=\"fill:#440154;stroke:#440154;\" x=\"80.49876\" xlink:href=\"#C0_0_432054d1e0\" y=\"45.126761\"/>\r\n    </g>\r\n    <g clip-path=\"url(#p662d197821)\">\r\n     <use style=\"fill:#440154;stroke:#440154;\" x=\"148.83083\" xlink:href=\"#C0_0_432054d1e0\" y=\"56.549927\"/>\r\n    </g>\r\n    <g clip-path=\"url(#p662d197821)\">\r\n     <use style=\"fill:#440154;stroke:#440154;\" x=\"119.529667\" xlink:href=\"#C0_0_432054d1e0\" y=\"85.745553\"/>\r\n    </g>\r\n    <g clip-path=\"url(#p662d197821)\">\r\n     <use style=\"fill:#fde725;stroke:#fde725;\" x=\"312.575614\" xlink:href=\"#C0_0_432054d1e0\" y=\"144.385466\"/>\r\n    </g>\r\n    <g clip-path=\"url(#p662d197821)\">\r\n     <use style=\"fill:#fde725;stroke:#fde725;\" x=\"301.772705\" xlink:href=\"#C0_0_432054d1e0\" y=\"178.668547\"/>\r\n    </g>\r\n    <g clip-path=\"url(#p662d197821)\">\r\n     <use style=\"fill:#440154;stroke:#440154;\" x=\"119.207027\" xlink:href=\"#C0_0_432054d1e0\" y=\"33.7345\"/>\r\n    </g>\r\n    <g clip-path=\"url(#p662d197821)\">\r\n     <use style=\"fill:#440154;stroke:#440154;\" x=\"89.442945\" xlink:href=\"#C0_0_432054d1e0\" y=\"61.791337\"/>\r\n    </g>\r\n    <g clip-path=\"url(#p662d197821)\">\r\n     <use style=\"fill:#440154;stroke:#440154;\" x=\"116.010627\" xlink:href=\"#C0_0_432054d1e0\" y=\"89.479938\"/>\r\n    </g>\r\n    <g clip-path=\"url(#p662d197821)\">\r\n     <use style=\"fill:#440154;stroke:#440154;\" x=\"129.840897\" xlink:href=\"#C0_0_432054d1e0\" y=\"49.00738\"/>\r\n    </g>\r\n    <g clip-path=\"url(#p662d197821)\">\r\n     <use style=\"fill:#fde725;stroke:#fde725;\" x=\"318.494709\" xlink:href=\"#C0_0_432054d1e0\" y=\"209.362977\"/>\r\n    </g>\r\n    <g clip-path=\"url(#p662d197821)\">\r\n     <use style=\"fill:#fde725;stroke:#fde725;\" x=\"271.796951\" xlink:href=\"#C0_0_432054d1e0\" y=\"171.038207\"/>\r\n    </g>\r\n    <g clip-path=\"url(#p662d197821)\">\r\n     <use style=\"fill:#fde725;stroke:#fde725;\" x=\"309.608508\" xlink:href=\"#C0_0_432054d1e0\" y=\"187.369635\"/>\r\n    </g>\r\n    <g clip-path=\"url(#p662d197821)\">\r\n     <use style=\"fill:#fde725;stroke:#fde725;\" x=\"290.842022\" xlink:href=\"#C0_0_432054d1e0\" y=\"200.301386\"/>\r\n    </g>\r\n    <g clip-path=\"url(#p662d197821)\">\r\n     <use style=\"fill:#440154;stroke:#440154;\" x=\"149.150608\" xlink:href=\"#C0_0_432054d1e0\" y=\"62.104955\"/>\r\n    </g>\r\n    <g clip-path=\"url(#p662d197821)\">\r\n     <use style=\"fill:#440154;stroke:#440154;\" x=\"109.620702\" xlink:href=\"#C0_0_432054d1e0\" y=\"22.546375\"/>\r\n    </g>\r\n    <g clip-path=\"url(#p662d197821)\">\r\n     <use style=\"fill:#440154;stroke:#440154;\" x=\"118.289284\" xlink:href=\"#C0_0_432054d1e0\" y=\"47.30405\"/>\r\n    </g>\r\n    <g clip-path=\"url(#p662d197821)\">\r\n     <use style=\"fill:#440154;stroke:#440154;\" x=\"81.664994\" xlink:href=\"#C0_0_432054d1e0\" y=\"74.980284\"/>\r\n    </g>\r\n    <g clip-path=\"url(#p662d197821)\">\r\n     <use style=\"fill:#fde725;stroke:#fde725;\" x=\"266.14\" xlink:href=\"#C0_0_432054d1e0\" y=\"173.517245\"/>\r\n    </g>\r\n    <g clip-path=\"url(#p662d197821)\">\r\n     <use style=\"fill:#fde725;stroke:#fde725;\" x=\"297.589724\" xlink:href=\"#C0_0_432054d1e0\" y=\"158.381038\"/>\r\n    </g>\r\n    <g clip-path=\"url(#p662d197821)\">\r\n     <use style=\"fill:#440154;stroke:#440154;\" x=\"65.511068\" xlink:href=\"#C0_0_432054d1e0\" y=\"62.940929\"/>\r\n    </g>\r\n    <g clip-path=\"url(#p662d197821)\">\r\n     <use style=\"fill:#440154;stroke:#440154;\" x=\"98.454399\" xlink:href=\"#C0_0_432054d1e0\" y=\"61.107109\"/>\r\n    </g>\r\n    <g clip-path=\"url(#p662d197821)\">\r\n     <use style=\"fill:#fde725;stroke:#fde725;\" x=\"306.593593\" xlink:href=\"#C0_0_432054d1e0\" y=\"175.336085\"/>\r\n    </g>\r\n    <g clip-path=\"url(#p662d197821)\">\r\n     <use style=\"fill:#440154;stroke:#440154;\" x=\"116.87498\" xlink:href=\"#C0_0_432054d1e0\" y=\"88.598904\"/>\r\n    </g>\r\n    <g clip-path=\"url(#p662d197821)\">\r\n     <use style=\"fill:#fde725;stroke:#fde725;\" x=\"313.589121\" xlink:href=\"#C0_0_432054d1e0\" y=\"202.265559\"/>\r\n    </g>\r\n    <g clip-path=\"url(#p662d197821)\">\r\n     <use style=\"fill:#440154;stroke:#440154;\" x=\"113.091401\" xlink:href=\"#C0_0_432054d1e0\" y=\"33.865547\"/>\r\n    </g>\r\n    <g clip-path=\"url(#p662d197821)\">\r\n     <use style=\"fill:#fde725;stroke:#fde725;\" x=\"303.975964\" xlink:href=\"#C0_0_432054d1e0\" y=\"187.400345\"/>\r\n    </g>\r\n    <g clip-path=\"url(#p662d197821)\">\r\n     <use style=\"fill:#fde725;stroke:#fde725;\" x=\"274.021043\" xlink:href=\"#C0_0_432054d1e0\" y=\"201.480295\"/>\r\n    </g>\r\n    <g clip-path=\"url(#p662d197821)\">\r\n     <use style=\"fill:#440154;stroke:#440154;\" x=\"120.000189\" xlink:href=\"#C0_0_432054d1e0\" y=\"64.514074\"/>\r\n    </g>\r\n    <g clip-path=\"url(#p662d197821)\">\r\n     <use style=\"fill:#440154;stroke:#440154;\" x=\"112.829461\" xlink:href=\"#C0_0_432054d1e0\" y=\"57.940727\"/>\r\n    </g>\r\n    <g clip-path=\"url(#p662d197821)\">\r\n     <use style=\"fill:#fde725;stroke:#fde725;\" x=\"291.414589\" xlink:href=\"#C0_0_432054d1e0\" y=\"172.426217\"/>\r\n    </g>\r\n    <g clip-path=\"url(#p662d197821)\">\r\n     <use style=\"fill:#440154;stroke:#440154;\" x=\"96.721903\" xlink:href=\"#C0_0_432054d1e0\" y=\"42.514051\"/>\r\n    </g>\r\n    <g clip-path=\"url(#p662d197821)\">\r\n     <use style=\"fill:#fde725;stroke:#fde725;\" x=\"247.14261\" xlink:href=\"#C0_0_432054d1e0\" y=\"186.490023\"/>\r\n    </g>\r\n    <g clip-path=\"url(#p662d197821)\">\r\n     <use style=\"fill:#fde725;stroke:#fde725;\" x=\"327.506227\" xlink:href=\"#C0_0_432054d1e0\" y=\"201.572824\"/>\r\n    </g>\r\n    <g clip-path=\"url(#p662d197821)\">\r\n     <use style=\"fill:#fde725;stroke:#fde725;\" x=\"274.168772\" xlink:href=\"#C0_0_432054d1e0\" y=\"183.066934\"/>\r\n    </g>\r\n    <g clip-path=\"url(#p662d197821)\">\r\n     <use style=\"fill:#fde725;stroke:#fde725;\" x=\"346.506818\" xlink:href=\"#C0_0_432054d1e0\" y=\"182.670901\"/>\r\n    </g>\r\n    <g clip-path=\"url(#p662d197821)\">\r\n     <use style=\"fill:#440154;stroke:#440154;\" x=\"73.594707\" xlink:href=\"#C0_0_432054d1e0\" y=\"60.250868\"/>\r\n    </g>\r\n    <g clip-path=\"url(#p662d197821)\">\r\n     <use style=\"fill:#fde725;stroke:#fde725;\" x=\"255.271712\" xlink:href=\"#C0_0_432054d1e0\" y=\"182.479917\"/>\r\n    </g>\r\n    <g clip-path=\"url(#p662d197821)\">\r\n     <use style=\"fill:#fde725;stroke:#fde725;\" x=\"303.79166\" xlink:href=\"#C0_0_432054d1e0\" y=\"179.406748\"/>\r\n    </g>\r\n    <g clip-path=\"url(#p662d197821)\">\r\n     <use style=\"fill:#440154;stroke:#440154;\" x=\"98.526969\" xlink:href=\"#C0_0_432054d1e0\" y=\"32.185192\"/>\r\n    </g>\r\n    <g clip-path=\"url(#p662d197821)\">\r\n     <use style=\"fill:#fde725;stroke:#fde725;\" x=\"271.382916\" xlink:href=\"#C0_0_432054d1e0\" y=\"196.741566\"/>\r\n    </g>\r\n    <g clip-path=\"url(#p662d197821)\">\r\n     <use style=\"fill:#fde725;stroke:#fde725;\" x=\"345.973787\" xlink:href=\"#C0_0_432054d1e0\" y=\"176.987465\"/>\r\n    </g>\r\n    <g clip-path=\"url(#p662d197821)\">\r\n     <use style=\"fill:#fde725;stroke:#fde725;\" x=\"327.09433\" xlink:href=\"#C0_0_432054d1e0\" y=\"171.705804\"/>\r\n    </g>\r\n    <g clip-path=\"url(#p662d197821)\">\r\n     <use style=\"fill:#fde725;stroke:#fde725;\" x=\"285.589713\" xlink:href=\"#C0_0_432054d1e0\" y=\"169.721796\"/>\r\n    </g>\r\n    <g clip-path=\"url(#p662d197821)\">\r\n     <use style=\"fill:#fde725;stroke:#fde725;\" x=\"293.038306\" xlink:href=\"#C0_0_432054d1e0\" y=\"178.312762\"/>\r\n    </g>\r\n    <g clip-path=\"url(#p662d197821)\">\r\n     <use style=\"fill:#fde725;stroke:#fde725;\" x=\"299.852524\" xlink:href=\"#C0_0_432054d1e0\" y=\"195.548453\"/>\r\n    </g>\r\n    <g clip-path=\"url(#p662d197821)\">\r\n     <use style=\"fill:#440154;stroke:#440154;\" x=\"108.675776\" xlink:href=\"#C0_0_432054d1e0\" y=\"33.202958\"/>\r\n    </g>\r\n    <g clip-path=\"url(#p662d197821)\">\r\n     <use style=\"fill:#fde725;stroke:#fde725;\" x=\"273.239967\" xlink:href=\"#C0_0_432054d1e0\" y=\"156.550208\"/>\r\n    </g>\r\n    <g clip-path=\"url(#p662d197821)\">\r\n     <use style=\"fill:#440154;stroke:#440154;\" x=\"110.203806\" xlink:href=\"#C0_0_432054d1e0\" y=\"72.349981\"/>\r\n    </g>\r\n    <g clip-path=\"url(#p662d197821)\">\r\n     <use style=\"fill:#fde725;stroke:#fde725;\" x=\"304.903602\" xlink:href=\"#C0_0_432054d1e0\" y=\"199.553394\"/>\r\n    </g>\r\n    <g clip-path=\"url(#p662d197821)\">\r\n     <use style=\"fill:#440154;stroke:#440154;\" x=\"94.843065\" xlink:href=\"#C0_0_432054d1e0\" y=\"17.083636\"/>\r\n    </g>\r\n    <g clip-path=\"url(#p662d197821)\">\r\n     <use style=\"fill:#440154;stroke:#440154;\" x=\"132.036553\" xlink:href=\"#C0_0_432054d1e0\" y=\"75.448188\"/>\r\n    </g>\r\n    <g clip-path=\"url(#p662d197821)\">\r\n     <use style=\"fill:#440154;stroke:#440154;\" x=\"86.843766\" xlink:href=\"#C0_0_432054d1e0\" y=\"79.084387\"/>\r\n    </g>\r\n    <g clip-path=\"url(#p662d197821)\">\r\n     <use style=\"fill:#fde725;stroke:#fde725;\" x=\"269.508753\" xlink:href=\"#C0_0_432054d1e0\" y=\"176.992033\"/>\r\n    </g>\r\n    <g clip-path=\"url(#p662d197821)\">\r\n     <use style=\"fill:#440154;stroke:#440154;\" x=\"107.536191\" xlink:href=\"#C0_0_432054d1e0\" y=\"57.98054\"/>\r\n    </g>\r\n    <g clip-path=\"url(#p662d197821)\">\r\n     <use style=\"fill:#440154;stroke:#440154;\" x=\"92.222576\" xlink:href=\"#C0_0_432054d1e0\" y=\"58.484937\"/>\r\n    </g>\r\n    <g clip-path=\"url(#p662d197821)\">\r\n     <use style=\"fill:#440154;stroke:#440154;\" x=\"42.143182\" xlink:href=\"#C0_0_432054d1e0\" y=\"36.652472\"/>\r\n    </g>\r\n    <g clip-path=\"url(#p662d197821)\">\r\n     <use style=\"fill:#fde725;stroke:#fde725;\" x=\"296.34371\" xlink:href=\"#C0_0_432054d1e0\" y=\"208.181938\"/>\r\n    </g>\r\n    <g clip-path=\"url(#p662d197821)\">\r\n     <use style=\"fill:#440154;stroke:#440154;\" x=\"84.106791\" xlink:href=\"#C0_0_432054d1e0\" y=\"46.293829\"/>\r\n    </g>\r\n    <g clip-path=\"url(#p662d197821)\">\r\n     <use style=\"fill:#fde725;stroke:#fde725;\" x=\"333.883332\" xlink:href=\"#C0_0_432054d1e0\" y=\"212.610347\"/>\r\n    </g>\r\n    <g clip-path=\"url(#p662d197821)\">\r\n     <use style=\"fill:#440154;stroke:#440154;\" x=\"94.870953\" xlink:href=\"#C0_0_432054d1e0\" y=\"57.801827\"/>\r\n    </g>\r\n    <g clip-path=\"url(#p662d197821)\">\r\n     <use style=\"fill:#440154;stroke:#440154;\" x=\"119.019539\" xlink:href=\"#C0_0_432054d1e0\" y=\"59.575457\"/>\r\n    </g>\r\n    <g clip-path=\"url(#p662d197821)\">\r\n     <use style=\"fill:#440154;stroke:#440154;\" x=\"92.87886\" xlink:href=\"#C0_0_432054d1e0\" y=\"40.645076\"/>\r\n    </g>\r\n    <g clip-path=\"url(#p662d197821)\">\r\n     <use style=\"fill:#440154;stroke:#440154;\" x=\"101.606491\" xlink:href=\"#C0_0_432054d1e0\" y=\"67.4988\"/>\r\n    </g>\r\n    <g clip-path=\"url(#p662d197821)\">\r\n     <use style=\"fill:#440154;stroke:#440154;\" x=\"137.480222\" xlink:href=\"#C0_0_432054d1e0\" y=\"34.575178\"/>\r\n    </g>\r\n    <g clip-path=\"url(#p662d197821)\">\r\n     <use style=\"fill:#440154;stroke:#440154;\" x=\"134.461464\" xlink:href=\"#C0_0_432054d1e0\" y=\"46.018374\"/>\r\n    </g>\r\n    <g clip-path=\"url(#p662d197821)\">\r\n     <use style=\"fill:#fde725;stroke:#fde725;\" x=\"275.13667\" xlink:href=\"#C0_0_432054d1e0\" y=\"214.756364\"/>\r\n    </g>\r\n    <g clip-path=\"url(#p662d197821)\">\r\n     <use style=\"fill:#440154;stroke:#440154;\" x=\"104.819676\" xlink:href=\"#C0_0_432054d1e0\" y=\"45.479735\"/>\r\n    </g>\r\n    <g clip-path=\"url(#p662d197821)\">\r\n     <use style=\"fill:#440154;stroke:#440154;\" x=\"110.689813\" xlink:href=\"#C0_0_432054d1e0\" y=\"56.717262\"/>\r\n    </g>\r\n   </g>\r\n   <g id=\"matplotlib.axis_1\">\r\n    <g id=\"xtick_1\">\r\n     <g id=\"line2d_1\">\r\n      <defs>\r\n       <path d=\"M 0 0 \r\nL 0 3.5 \r\n\" id=\"mdce4b382c0\" style=\"stroke:#000000;stroke-width:0.8;\"/>\r\n      </defs>\r\n      <g>\r\n       <use style=\"stroke:#000000;stroke-width:0.8;\" x=\"71.624854\" xlink:href=\"#mdce4b382c0\" y=\"224.64\"/>\r\n      </g>\r\n     </g>\r\n     <g id=\"text_1\">\r\n      <!-- −4 -->\r\n      <g transform=\"translate(64.253761 239.238437)scale(0.1 -0.1)\">\r\n       <defs>\r\n        <path d=\"M 10.59375 35.5 \r\nL 73.1875 35.5 \r\nL 73.1875 27.203125 \r\nL 10.59375 27.203125 \r\nz\r\n\" id=\"DejaVuSans-8722\"/>\r\n        <path d=\"M 37.796875 64.3125 \r\nL 12.890625 25.390625 \r\nL 37.796875 25.390625 \r\nz\r\nM 35.203125 72.90625 \r\nL 47.609375 72.90625 \r\nL 47.609375 25.390625 \r\nL 58.015625 25.390625 \r\nL 58.015625 17.1875 \r\nL 47.609375 17.1875 \r\nL 47.609375 0 \r\nL 37.796875 0 \r\nL 37.796875 17.1875 \r\nL 4.890625 17.1875 \r\nL 4.890625 26.703125 \r\nz\r\n\" id=\"DejaVuSans-52\"/>\r\n       </defs>\r\n       <use xlink:href=\"#DejaVuSans-8722\"/>\r\n       <use x=\"83.789062\" xlink:href=\"#DejaVuSans-52\"/>\r\n      </g>\r\n     </g>\r\n    </g>\r\n    <g id=\"xtick_2\">\r\n     <g id=\"line2d_2\">\r\n      <g>\r\n       <use style=\"stroke:#000000;stroke-width:0.8;\" x=\"123.853673\" xlink:href=\"#mdce4b382c0\" y=\"224.64\"/>\r\n      </g>\r\n     </g>\r\n     <g id=\"text_2\">\r\n      <!-- −2 -->\r\n      <g transform=\"translate(116.482579 239.238437)scale(0.1 -0.1)\">\r\n       <defs>\r\n        <path d=\"M 19.1875 8.296875 \r\nL 53.609375 8.296875 \r\nL 53.609375 0 \r\nL 7.328125 0 \r\nL 7.328125 8.296875 \r\nQ 12.9375 14.109375 22.625 23.890625 \r\nQ 32.328125 33.6875 34.8125 36.53125 \r\nQ 39.546875 41.84375 41.421875 45.53125 \r\nQ 43.3125 49.21875 43.3125 52.78125 \r\nQ 43.3125 58.59375 39.234375 62.25 \r\nQ 35.15625 65.921875 28.609375 65.921875 \r\nQ 23.96875 65.921875 18.8125 64.3125 \r\nQ 13.671875 62.703125 7.8125 59.421875 \r\nL 7.8125 69.390625 \r\nQ 13.765625 71.78125 18.9375 73 \r\nQ 24.125 74.21875 28.421875 74.21875 \r\nQ 39.75 74.21875 46.484375 68.546875 \r\nQ 53.21875 62.890625 53.21875 53.421875 \r\nQ 53.21875 48.921875 51.53125 44.890625 \r\nQ 49.859375 40.875 45.40625 35.40625 \r\nQ 44.1875 33.984375 37.640625 27.21875 \r\nQ 31.109375 20.453125 19.1875 8.296875 \r\nz\r\n\" id=\"DejaVuSans-50\"/>\r\n       </defs>\r\n       <use xlink:href=\"#DejaVuSans-8722\"/>\r\n       <use x=\"83.789062\" xlink:href=\"#DejaVuSans-50\"/>\r\n      </g>\r\n     </g>\r\n    </g>\r\n    <g id=\"xtick_3\">\r\n     <g id=\"line2d_3\">\r\n      <g>\r\n       <use style=\"stroke:#000000;stroke-width:0.8;\" x=\"176.082492\" xlink:href=\"#mdce4b382c0\" y=\"224.64\"/>\r\n      </g>\r\n     </g>\r\n     <g id=\"text_3\">\r\n      <!-- 0 -->\r\n      <g transform=\"translate(172.901242 239.238437)scale(0.1 -0.1)\">\r\n       <defs>\r\n        <path d=\"M 31.78125 66.40625 \r\nQ 24.171875 66.40625 20.328125 58.90625 \r\nQ 16.5 51.421875 16.5 36.375 \r\nQ 16.5 21.390625 20.328125 13.890625 \r\nQ 24.171875 6.390625 31.78125 6.390625 \r\nQ 39.453125 6.390625 43.28125 13.890625 \r\nQ 47.125 21.390625 47.125 36.375 \r\nQ 47.125 51.421875 43.28125 58.90625 \r\nQ 39.453125 66.40625 31.78125 66.40625 \r\nz\r\nM 31.78125 74.21875 \r\nQ 44.046875 74.21875 50.515625 64.515625 \r\nQ 56.984375 54.828125 56.984375 36.375 \r\nQ 56.984375 17.96875 50.515625 8.265625 \r\nQ 44.046875 -1.421875 31.78125 -1.421875 \r\nQ 19.53125 -1.421875 13.0625 8.265625 \r\nQ 6.59375 17.96875 6.59375 36.375 \r\nQ 6.59375 54.828125 13.0625 64.515625 \r\nQ 19.53125 74.21875 31.78125 74.21875 \r\nz\r\n\" id=\"DejaVuSans-48\"/>\r\n       </defs>\r\n       <use xlink:href=\"#DejaVuSans-48\"/>\r\n      </g>\r\n     </g>\r\n    </g>\r\n    <g id=\"xtick_4\">\r\n     <g id=\"line2d_4\">\r\n      <g>\r\n       <use style=\"stroke:#000000;stroke-width:0.8;\" x=\"228.311311\" xlink:href=\"#mdce4b382c0\" y=\"224.64\"/>\r\n      </g>\r\n     </g>\r\n     <g id=\"text_4\">\r\n      <!-- 2 -->\r\n      <g transform=\"translate(225.130061 239.238437)scale(0.1 -0.1)\">\r\n       <use xlink:href=\"#DejaVuSans-50\"/>\r\n      </g>\r\n     </g>\r\n    </g>\r\n    <g id=\"xtick_5\">\r\n     <g id=\"line2d_5\">\r\n      <g>\r\n       <use style=\"stroke:#000000;stroke-width:0.8;\" x=\"280.540129\" xlink:href=\"#mdce4b382c0\" y=\"224.64\"/>\r\n      </g>\r\n     </g>\r\n     <g id=\"text_5\">\r\n      <!-- 4 -->\r\n      <g transform=\"translate(277.358879 239.238437)scale(0.1 -0.1)\">\r\n       <use xlink:href=\"#DejaVuSans-52\"/>\r\n      </g>\r\n     </g>\r\n    </g>\r\n    <g id=\"xtick_6\">\r\n     <g id=\"line2d_6\">\r\n      <g>\r\n       <use style=\"stroke:#000000;stroke-width:0.8;\" x=\"332.768948\" xlink:href=\"#mdce4b382c0\" y=\"224.64\"/>\r\n      </g>\r\n     </g>\r\n     <g id=\"text_6\">\r\n      <!-- 6 -->\r\n      <g transform=\"translate(329.587698 239.238437)scale(0.1 -0.1)\">\r\n       <defs>\r\n        <path d=\"M 33.015625 40.375 \r\nQ 26.375 40.375 22.484375 35.828125 \r\nQ 18.609375 31.296875 18.609375 23.390625 \r\nQ 18.609375 15.53125 22.484375 10.953125 \r\nQ 26.375 6.390625 33.015625 6.390625 \r\nQ 39.65625 6.390625 43.53125 10.953125 \r\nQ 47.40625 15.53125 47.40625 23.390625 \r\nQ 47.40625 31.296875 43.53125 35.828125 \r\nQ 39.65625 40.375 33.015625 40.375 \r\nz\r\nM 52.59375 71.296875 \r\nL 52.59375 62.3125 \r\nQ 48.875 64.0625 45.09375 64.984375 \r\nQ 41.3125 65.921875 37.59375 65.921875 \r\nQ 27.828125 65.921875 22.671875 59.328125 \r\nQ 17.53125 52.734375 16.796875 39.40625 \r\nQ 19.671875 43.65625 24.015625 45.921875 \r\nQ 28.375 48.1875 33.59375 48.1875 \r\nQ 44.578125 48.1875 50.953125 41.515625 \r\nQ 57.328125 34.859375 57.328125 23.390625 \r\nQ 57.328125 12.15625 50.6875 5.359375 \r\nQ 44.046875 -1.421875 33.015625 -1.421875 \r\nQ 20.359375 -1.421875 13.671875 8.265625 \r\nQ 6.984375 17.96875 6.984375 36.375 \r\nQ 6.984375 53.65625 15.1875 63.9375 \r\nQ 23.390625 74.21875 37.203125 74.21875 \r\nQ 40.921875 74.21875 44.703125 73.484375 \r\nQ 48.484375 72.75 52.59375 71.296875 \r\nz\r\n\" id=\"DejaVuSans-54\"/>\r\n       </defs>\r\n       <use xlink:href=\"#DejaVuSans-54\"/>\r\n      </g>\r\n     </g>\r\n    </g>\r\n   </g>\r\n   <g id=\"matplotlib.axis_2\">\r\n    <g id=\"ytick_1\">\r\n     <g id=\"line2d_7\">\r\n      <defs>\r\n       <path d=\"M 0 0 \r\nL -3.5 0 \r\n\" id=\"mb2f9362557\" style=\"stroke:#000000;stroke-width:0.8;\"/>\r\n      </defs>\r\n      <g>\r\n       <use style=\"stroke:#000000;stroke-width:0.8;\" x=\"26.925\" xlink:href=\"#mb2f9362557\" y=\"223.460797\"/>\r\n      </g>\r\n     </g>\r\n     <g id=\"text_7\">\r\n      <!-- 0 -->\r\n      <g transform=\"translate(13.5625 227.260016)scale(0.1 -0.1)\">\r\n       <use xlink:href=\"#DejaVuSans-48\"/>\r\n      </g>\r\n     </g>\r\n    </g>\r\n    <g id=\"ytick_2\">\r\n     <g id=\"line2d_8\">\r\n      <g>\r\n       <use style=\"stroke:#000000;stroke-width:0.8;\" x=\"26.925\" xlink:href=\"#mb2f9362557\" y=\"185.476913\"/>\r\n      </g>\r\n     </g>\r\n     <g id=\"text_8\">\r\n      <!-- 2 -->\r\n      <g transform=\"translate(13.5625 189.276132)scale(0.1 -0.1)\">\r\n       <use xlink:href=\"#DejaVuSans-50\"/>\r\n      </g>\r\n     </g>\r\n    </g>\r\n    <g id=\"ytick_3\">\r\n     <g id=\"line2d_9\">\r\n      <g>\r\n       <use style=\"stroke:#000000;stroke-width:0.8;\" x=\"26.925\" xlink:href=\"#mb2f9362557\" y=\"147.493029\"/>\r\n      </g>\r\n     </g>\r\n     <g id=\"text_9\">\r\n      <!-- 4 -->\r\n      <g transform=\"translate(13.5625 151.292247)scale(0.1 -0.1)\">\r\n       <use xlink:href=\"#DejaVuSans-52\"/>\r\n      </g>\r\n     </g>\r\n    </g>\r\n    <g id=\"ytick_4\">\r\n     <g id=\"line2d_10\">\r\n      <g>\r\n       <use style=\"stroke:#000000;stroke-width:0.8;\" x=\"26.925\" xlink:href=\"#mb2f9362557\" y=\"109.509144\"/>\r\n      </g>\r\n     </g>\r\n     <g id=\"text_10\">\r\n      <!-- 6 -->\r\n      <g transform=\"translate(13.5625 113.308363)scale(0.1 -0.1)\">\r\n       <use xlink:href=\"#DejaVuSans-54\"/>\r\n      </g>\r\n     </g>\r\n    </g>\r\n    <g id=\"ytick_5\">\r\n     <g id=\"line2d_11\">\r\n      <g>\r\n       <use style=\"stroke:#000000;stroke-width:0.8;\" x=\"26.925\" xlink:href=\"#mb2f9362557\" y=\"71.52526\"/>\r\n      </g>\r\n     </g>\r\n     <g id=\"text_11\">\r\n      <!-- 8 -->\r\n      <g transform=\"translate(13.5625 75.324479)scale(0.1 -0.1)\">\r\n       <defs>\r\n        <path d=\"M 31.78125 34.625 \r\nQ 24.75 34.625 20.71875 30.859375 \r\nQ 16.703125 27.09375 16.703125 20.515625 \r\nQ 16.703125 13.921875 20.71875 10.15625 \r\nQ 24.75 6.390625 31.78125 6.390625 \r\nQ 38.8125 6.390625 42.859375 10.171875 \r\nQ 46.921875 13.96875 46.921875 20.515625 \r\nQ 46.921875 27.09375 42.890625 30.859375 \r\nQ 38.875 34.625 31.78125 34.625 \r\nz\r\nM 21.921875 38.8125 \r\nQ 15.578125 40.375 12.03125 44.71875 \r\nQ 8.5 49.078125 8.5 55.328125 \r\nQ 8.5 64.0625 14.71875 69.140625 \r\nQ 20.953125 74.21875 31.78125 74.21875 \r\nQ 42.671875 74.21875 48.875 69.140625 \r\nQ 55.078125 64.0625 55.078125 55.328125 \r\nQ 55.078125 49.078125 51.53125 44.71875 \r\nQ 48 40.375 41.703125 38.8125 \r\nQ 48.828125 37.15625 52.796875 32.3125 \r\nQ 56.78125 27.484375 56.78125 20.515625 \r\nQ 56.78125 9.90625 50.3125 4.234375 \r\nQ 43.84375 -1.421875 31.78125 -1.421875 \r\nQ 19.734375 -1.421875 13.25 4.234375 \r\nQ 6.78125 9.90625 6.78125 20.515625 \r\nQ 6.78125 27.484375 10.78125 32.3125 \r\nQ 14.796875 37.15625 21.921875 38.8125 \r\nz\r\nM 18.3125 54.390625 \r\nQ 18.3125 48.734375 21.84375 45.5625 \r\nQ 25.390625 42.390625 31.78125 42.390625 \r\nQ 38.140625 42.390625 41.71875 45.5625 \r\nQ 45.3125 48.734375 45.3125 54.390625 \r\nQ 45.3125 60.0625 41.71875 63.234375 \r\nQ 38.140625 66.40625 31.78125 66.40625 \r\nQ 25.390625 66.40625 21.84375 63.234375 \r\nQ 18.3125 60.0625 18.3125 54.390625 \r\nz\r\n\" id=\"DejaVuSans-56\"/>\r\n       </defs>\r\n       <use xlink:href=\"#DejaVuSans-56\"/>\r\n      </g>\r\n     </g>\r\n    </g>\r\n    <g id=\"ytick_6\">\r\n     <g id=\"line2d_12\">\r\n      <g>\r\n       <use style=\"stroke:#000000;stroke-width:0.8;\" x=\"26.925\" xlink:href=\"#mb2f9362557\" y=\"33.541376\"/>\r\n      </g>\r\n     </g>\r\n     <g id=\"text_12\">\r\n      <!-- 10 -->\r\n      <g transform=\"translate(7.2 37.340594)scale(0.1 -0.1)\">\r\n       <defs>\r\n        <path d=\"M 12.40625 8.296875 \r\nL 28.515625 8.296875 \r\nL 28.515625 63.921875 \r\nL 10.984375 60.40625 \r\nL 10.984375 69.390625 \r\nL 28.421875 72.90625 \r\nL 38.28125 72.90625 \r\nL 38.28125 8.296875 \r\nL 54.390625 8.296875 \r\nL 54.390625 0 \r\nL 12.40625 0 \r\nz\r\n\" id=\"DejaVuSans-49\"/>\r\n       </defs>\r\n       <use xlink:href=\"#DejaVuSans-49\"/>\r\n       <use x=\"63.623047\" xlink:href=\"#DejaVuSans-48\"/>\r\n      </g>\r\n     </g>\r\n    </g>\r\n   </g>\r\n   <g id=\"patch_3\">\r\n    <path d=\"M 26.925 224.64 \r\nL 26.925 7.2 \r\n\" style=\"fill:none;stroke:#000000;stroke-linecap:square;stroke-linejoin:miter;stroke-width:0.8;\"/>\r\n   </g>\r\n   <g id=\"patch_4\">\r\n    <path d=\"M 361.725 224.64 \r\nL 361.725 7.2 \r\n\" style=\"fill:none;stroke:#000000;stroke-linecap:square;stroke-linejoin:miter;stroke-width:0.8;\"/>\r\n   </g>\r\n   <g id=\"patch_5\">\r\n    <path d=\"M 26.925 224.64 \r\nL 361.725 224.64 \r\n\" style=\"fill:none;stroke:#000000;stroke-linecap:square;stroke-linejoin:miter;stroke-width:0.8;\"/>\r\n   </g>\r\n   <g id=\"patch_6\">\r\n    <path d=\"M 26.925 7.2 \r\nL 361.725 7.2 \r\n\" style=\"fill:none;stroke:#000000;stroke-linecap:square;stroke-linejoin:miter;stroke-width:0.8;\"/>\r\n   </g>\r\n  </g>\r\n </g>\r\n <defs>\r\n  <clipPath id=\"p662d197821\">\r\n   <rect height=\"217.44\" width=\"334.8\" x=\"26.925\" y=\"7.2\"/>\r\n  </clipPath>\r\n </defs>\r\n</svg>\r\n",
      "image/png": "[encoded data removed]"
     },
     "metadata": {
      "needs_background": "light"
     }
    }
   ],
   "source": [
    "# Visualizing both classes\n",
    "plt.scatter(X[:, 0], X[:, 1],c=y)"
   ]
  },
  {
   "cell_type": "code",
   "execution_count": 12,
   "metadata": {},
   "outputs": [
    {
     "output_type": "execute_result",
     "data": {
      "text/plain": [
       "array([ 8.82862715,  3.02697174,  9.12520872,  3.86996267,  3.28031244,\n",
       "       10.55232269,  2.80035293,  2.04173266,  7.55077118,  8.70507375,\n",
       "        7.58953794,  0.65271307,  9.55684617,  9.21114736,  2.20542338,\n",
       "        1.65110817,  4.4364118 ,  2.4556421 ,  0.83019939,  7.02671721,\n",
       "        0.72743091,  2.27471703,  1.06378223,  2.38595061,  2.75499256,\n",
       "        9.78172086,  2.31432166, 10.37052616,  2.27015436,  4.69333885,\n",
       "        8.78014917,  8.29444192,  9.38998415,  8.78850983,  7.25124597,\n",
       "        4.16362531,  2.35848706,  9.98983126,  8.51252908,  7.054616  ,\n",
       "        9.18565441,  0.74230537,  2.76025429,  1.90034077,  1.21943352,\n",
       "        8.49601591, 10.57892978,  9.2753414 ,  7.8180795 ,  2.62972329,\n",
       "        3.42670376,  8.4519986 ,  8.54855637,  2.53395421,  7.10100588,\n",
       "        1.11601213,  9.98293112,  1.89872377,  1.1573594 ,  8.36916637,\n",
       "        8.71527878,  2.68717018,  9.52755356,  1.94665581,  1.15248737,\n",
       "        2.12689479,  2.1477475 ,  8.59364081,  2.15780354,  2.31961789,\n",
       "       10.07140835,  1.40687195,  2.4470026 ,  2.72510272,  2.82956848,\n",
       "        2.37722054,  1.46969403, 10.01781903,  3.52310409,  7.9565752 ,\n",
       "        1.25881827, 10.86656431,  7.79344248,  7.60198243,  2.44676211,\n",
       "        8.71318243,  8.68662398,  9.83618863,  0.80449165,  9.32853346,\n",
       "        0.57131862,  8.72259238,  8.62920385,  9.62596242,  8.21200886,\n",
       "        9.94556625,  9.34303724,  0.45832246,  9.3713987 ,  8.77969899])"
      ]
     },
     "metadata": {},
     "execution_count": 12
    }
   ],
   "source": [
    "X[:,1]"
   ]
  },
  {
   "cell_type": "markdown",
   "metadata": {},
   "source": [
    " # Split our data into training and testing"
   ]
  },
  {
   "cell_type": "code",
   "execution_count": 4,
   "metadata": {},
   "outputs": [],
   "source": [
    "from sklearn.model_selection import train_test_split\n",
    "\n",
    "X_train, X_test, y_train, y_test = train_test_split(X, \n",
    "                                                    y, \n",
    "                                                    random_state=1, \n",
    "                                                    stratify=y)"
   ]
  },
  {
   "cell_type": "markdown",
   "metadata": {},
   "source": [
    " # Create a Logistic Regression Model"
   ]
  },
  {
   "cell_type": "code",
   "execution_count": 5,
   "metadata": {},
   "outputs": [
    {
     "data": {
      "text/plain": [
       "LogisticRegression(C=1.0, class_weight=None, dual=False, fit_intercept=True,\n",
       "                   intercept_scaling=1, l1_ratio=None, max_iter=100,\n",
       "                   multi_class='warn', n_jobs=None, penalty='l2',\n",
       "                   random_state=1, solver='lbfgs', tol=0.0001, verbose=0,\n",
       "                   warm_start=False)"
      ]
     },
     "execution_count": 5,
     "metadata": {},
     "output_type": "execute_result"
    }
   ],
   "source": [
    "from sklearn.linear_model import LogisticRegression\n",
    "classifier = LogisticRegression(solver='lbfgs', random_state=1)\n",
    "classifier"
   ]
  },
  {
   "cell_type": "markdown",
   "metadata": {},
   "source": [
    " # Fit (train) or model using the training data"
   ]
  },
  {
   "cell_type": "code",
   "execution_count": 6,
   "metadata": {},
   "outputs": [
    {
     "data": {
      "text/plain": [
       "LogisticRegression(C=1.0, class_weight=None, dual=False, fit_intercept=True,\n",
       "                   intercept_scaling=1, l1_ratio=None, max_iter=100,\n",
       "                   multi_class='warn', n_jobs=None, penalty='l2',\n",
       "                   random_state=1, solver='lbfgs', tol=0.0001, verbose=0,\n",
       "                   warm_start=False)"
      ]
     },
     "execution_count": 6,
     "metadata": {},
     "output_type": "execute_result"
    }
   ],
   "source": [
    "# Train the data\n",
    "classifier.fit(X_train, y_train)"
   ]
  },
  {
   "cell_type": "markdown",
   "metadata": {},
   "source": [
    " # Make predictions"
   ]
  },
  {
   "cell_type": "code",
   "execution_count": 7,
   "metadata": {},
   "outputs": [
    {
     "data": {
      "text/html": [
       "<div>\n",
       "<style scoped>\n",
       "    .dataframe tbody tr th:only-of-type {\n",
       "        vertical-align: middle;\n",
       "    }\n",
       "\n",
       "    .dataframe tbody tr th {\n",
       "        vertical-align: top;\n",
       "    }\n",
       "\n",
       "    .dataframe thead th {\n",
       "        text-align: right;\n",
       "    }\n",
       "</style>\n",
       "<table border=\"1\" class=\"dataframe\">\n",
       "  <thead>\n",
       "    <tr style=\"text-align: right;\">\n",
       "      <th></th>\n",
       "      <th>Prediction</th>\n",
       "      <th>Actual</th>\n",
       "    </tr>\n",
       "  </thead>\n",
       "  <tbody>\n",
       "    <tr>\n",
       "      <td>0</td>\n",
       "      <td>1</td>\n",
       "      <td>1</td>\n",
       "    </tr>\n",
       "    <tr>\n",
       "      <td>1</td>\n",
       "      <td>0</td>\n",
       "      <td>0</td>\n",
       "    </tr>\n",
       "    <tr>\n",
       "      <td>2</td>\n",
       "      <td>1</td>\n",
       "      <td>1</td>\n",
       "    </tr>\n",
       "    <tr>\n",
       "      <td>3</td>\n",
       "      <td>1</td>\n",
       "      <td>1</td>\n",
       "    </tr>\n",
       "    <tr>\n",
       "      <td>4</td>\n",
       "      <td>1</td>\n",
       "      <td>1</td>\n",
       "    </tr>\n",
       "    <tr>\n",
       "      <td>5</td>\n",
       "      <td>0</td>\n",
       "      <td>0</td>\n",
       "    </tr>\n",
       "    <tr>\n",
       "      <td>6</td>\n",
       "      <td>1</td>\n",
       "      <td>1</td>\n",
       "    </tr>\n",
       "    <tr>\n",
       "      <td>7</td>\n",
       "      <td>1</td>\n",
       "      <td>1</td>\n",
       "    </tr>\n",
       "    <tr>\n",
       "      <td>8</td>\n",
       "      <td>1</td>\n",
       "      <td>1</td>\n",
       "    </tr>\n",
       "    <tr>\n",
       "      <td>9</td>\n",
       "      <td>0</td>\n",
       "      <td>0</td>\n",
       "    </tr>\n",
       "    <tr>\n",
       "      <td>10</td>\n",
       "      <td>0</td>\n",
       "      <td>0</td>\n",
       "    </tr>\n",
       "    <tr>\n",
       "      <td>11</td>\n",
       "      <td>1</td>\n",
       "      <td>1</td>\n",
       "    </tr>\n",
       "    <tr>\n",
       "      <td>12</td>\n",
       "      <td>1</td>\n",
       "      <td>1</td>\n",
       "    </tr>\n",
       "    <tr>\n",
       "      <td>13</td>\n",
       "      <td>0</td>\n",
       "      <td>0</td>\n",
       "    </tr>\n",
       "    <tr>\n",
       "      <td>14</td>\n",
       "      <td>1</td>\n",
       "      <td>1</td>\n",
       "    </tr>\n",
       "    <tr>\n",
       "      <td>15</td>\n",
       "      <td>0</td>\n",
       "      <td>0</td>\n",
       "    </tr>\n",
       "    <tr>\n",
       "      <td>16</td>\n",
       "      <td>0</td>\n",
       "      <td>0</td>\n",
       "    </tr>\n",
       "    <tr>\n",
       "      <td>17</td>\n",
       "      <td>0</td>\n",
       "      <td>0</td>\n",
       "    </tr>\n",
       "    <tr>\n",
       "      <td>18</td>\n",
       "      <td>0</td>\n",
       "      <td>0</td>\n",
       "    </tr>\n",
       "    <tr>\n",
       "      <td>19</td>\n",
       "      <td>0</td>\n",
       "      <td>0</td>\n",
       "    </tr>\n",
       "    <tr>\n",
       "      <td>20</td>\n",
       "      <td>1</td>\n",
       "      <td>1</td>\n",
       "    </tr>\n",
       "    <tr>\n",
       "      <td>21</td>\n",
       "      <td>1</td>\n",
       "      <td>1</td>\n",
       "    </tr>\n",
       "    <tr>\n",
       "      <td>22</td>\n",
       "      <td>0</td>\n",
       "      <td>0</td>\n",
       "    </tr>\n",
       "    <tr>\n",
       "      <td>23</td>\n",
       "      <td>0</td>\n",
       "      <td>0</td>\n",
       "    </tr>\n",
       "    <tr>\n",
       "      <td>24</td>\n",
       "      <td>1</td>\n",
       "      <td>1</td>\n",
       "    </tr>\n",
       "  </tbody>\n",
       "</table>\n",
       "</div>"
      ],
      "text/plain": [
       "    Prediction  Actual\n",
       "0            1       1\n",
       "1            0       0\n",
       "2            1       1\n",
       "3            1       1\n",
       "4            1       1\n",
       "5            0       0\n",
       "6            1       1\n",
       "7            1       1\n",
       "8            1       1\n",
       "9            0       0\n",
       "10           0       0\n",
       "11           1       1\n",
       "12           1       1\n",
       "13           0       0\n",
       "14           1       1\n",
       "15           0       0\n",
       "16           0       0\n",
       "17           0       0\n",
       "18           0       0\n",
       "19           0       0\n",
       "20           1       1\n",
       "21           1       1\n",
       "22           0       0\n",
       "23           0       0\n",
       "24           1       1"
      ]
     },
     "execution_count": 7,
     "metadata": {},
     "output_type": "execute_result"
    }
   ],
   "source": [
    "# Predict outcomes for test data set\n",
    "predictions = classifier.predict(X_test)\n",
    "pd.DataFrame({\"Prediction\": predictions, \"Actual\": y_test})"
   ]
  },
  {
   "cell_type": "markdown",
   "metadata": {},
   "source": [
    "# Validate the model using the test data"
   ]
  },
  {
   "cell_type": "code",
   "execution_count": 8,
   "metadata": {},
   "outputs": [
    {
     "data": {
      "text/plain": [
       "1.0"
      ]
     },
     "execution_count": 8,
     "metadata": {},
     "output_type": "execute_result"
    }
   ],
   "source": [
    "from sklearn.metrics import accuracy_score\n",
    "accuracy_score(y_test, predictions)"
   ]
  },
  {
   "cell_type": "code",
   "execution_count": 9,
   "metadata": {},
   "outputs": [
    {
     "data": {
      "image/png": "[encoded data removed]",
      "text/plain": [
       "<Figure size 432x288 with 1 Axes>"
      ]
     },
     "metadata": {
      "needs_background": "light"
     },
     "output_type": "display_data"
    }
   ],
   "source": [
    "# Generate a new data point (the red circle)\n",
    "import numpy as np\n",
    "new_data = np.array([[-2, 6]])\n",
    "plt.scatter(X[:, 0], X[:, 1], c=y)\n",
    "plt.scatter(new_data[0, 0], new_data[0, 1], c=\"r\", marker=\"o\", s=100)\n",
    "plt.show()"
   ]
  },
  {
   "cell_type": "code",
   "execution_count": 10,
   "metadata": {},
   "outputs": [
    {
     "name": "stdout",
     "output_type": "stream",
     "text": [
      "Classes are either 0 (purple) or 1 (yellow)\n",
      "The new point was classified as: [0]\n"
     ]
    }
   ],
   "source": [
    "# Predict the class (purple or yellow) of the new data point\n",
    "predictions = classifier.predict(new_data)\n",
    "print(\"Classes are either 0 (purple) or 1 (yellow)\")\n",
    "print(f\"The new point was classified as: {predictions}\")"
   ]
  }
 ],
 "metadata": {
  "file_extension": ".py",
  "kernelspec": {
   "display_name": "mlenv",
   "language": "python",
   "name": "mlenv"
  },
  "language_info": {
   "codemirror_mode": {
    "name": "ipython",
    "version": 3
   },
   "file_extension": ".py",
   "mimetype": "text/x-python",
   "name": "python",
   "nbconvert_exporter": "python",
   "pygments_lexer": "ipython3",
   "version": "3.8.5"
  },
  "mimetype": "text/x-python",
  "name": "python",
  "npconvert_exporter": "python",
  "pygments_lexer": "ipython3",
  "version": 3
 },
 "nbformat": 4,
 "nbformat_minor": 4
}